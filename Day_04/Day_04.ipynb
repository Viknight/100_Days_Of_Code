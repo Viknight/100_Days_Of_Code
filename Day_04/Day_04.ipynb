{
 "cells": [
  {
   "cell_type": "code",
   "execution_count": 3,
   "metadata": {},
   "outputs": [
    {
     "name": "stdout",
     "output_type": "stream",
     "text": [
      "4\n",
      "0.20686600875707029\n",
      "1.0343300437853515\n"
     ]
    }
   ],
   "source": [
    "\n",
    "#randomisation\n",
    "import random\n",
    "import mymodule\n",
    "\n",
    "random_integer = random.randint(0,4)\n",
    "print(random_integer)\n",
    "\n",
    "random_float = random.random()\n",
    "print(random_float)\n",
    "print(5*random_float)\n",
    "# print(mymodule.pi)"
   ]
  },
  {
   "cell_type": "code",
   "execution_count": null,
   "metadata": {},
   "outputs": [],
   "source": []
  },
  {
   "cell_type": "code",
   "execution_count": 5,
   "metadata": {},
   "outputs": [
    {
     "name": "stdout",
     "output_type": "stream",
     "text": [
      "Tails\n"
     ]
    }
   ],
   "source": [
    "#Write your code below this line 👇\n",
    "#Hint: Remember to import the random module first. 🎲\n",
    "\n",
    "import random\n",
    "\n",
    "toss = random.randint(0,1)\n",
    "# print(toss)\n",
    "\n",
    "if toss == 0:\n",
    "  print('Heads')\n",
    "else:\n",
    "  print('Tails')\n"
   ]
  },
  {
   "cell_type": "code",
   "execution_count": null,
   "metadata": {},
   "outputs": [],
   "source": []
  },
  {
   "cell_type": "code",
   "execution_count": 7,
   "metadata": {},
   "outputs": [
    {
     "data": {
      "text/plain": [
       "['Delaware', 'Pennsylvania', 'angleland']"
      ]
     },
     "execution_count": 7,
     "metadata": {},
     "output_type": "execute_result"
    }
   ],
   "source": [
    "states_of_america = [\"Delaware\",\"Pennsylvania\"]\n",
    "\n",
    "states_of_america.append(\"angleland\")\n",
    "states_of_america"
   ]
  },
  {
   "cell_type": "code",
   "execution_count": null,
   "metadata": {},
   "outputs": [],
   "source": []
  },
  {
   "cell_type": "code",
   "execution_count": 8,
   "metadata": {},
   "outputs": [
    {
     "name": "stdout",
     "output_type": "stream",
     "text": [
      "Give me everybody's names, separated by a comma. varun, omkar, shristi, neerav, dheeraj\n",
      "['varun', 'omkar', 'shristi', 'neerav', 'dheeraj']\n",
      "shristi is going to buy the meal today\n"
     ]
    }
   ],
   "source": [
    "#Banker roulette\n",
    "\n",
    "import random\n",
    "# Split string method\n",
    "names_string = input(\"Give me everybody's names, separated by a comma. \")\n",
    "names = names_string.split(\", \")\n",
    "# 🚨 Don't change the code above 👆\n",
    "\n",
    "#Write your code below this line 👇\n",
    "\n",
    "print(names)\n",
    "\n",
    "index = random.randint(0,len(names)-1\n",
    ")\n",
    "\n",
    "payee = names[index]\n",
    "\n",
    "print(f\"{payee} is going to buy the meal today\")\n"
   ]
  },
  {
   "cell_type": "code",
   "execution_count": null,
   "metadata": {},
   "outputs": [],
   "source": []
  },
  {
   "cell_type": "code",
   "execution_count": 9,
   "metadata": {},
   "outputs": [
    {
     "name": "stdout",
     "output_type": "stream",
     "text": [
      "['⬜️', '⬜️', '⬜️']\n",
      "['⬜️', '⬜️', '⬜️']\n",
      "['⬜️', '⬜️', '⬜️']\n",
      "Where do you want to put the treasure? 12\n",
      "['⬜️', '⬜️', '⬜️']\n",
      "['X', '⬜️', '⬜️']\n",
      "['⬜️', '⬜️', '⬜️']\n"
     ]
    }
   ],
   "source": [
    "#Treasure map\n",
    "\n",
    "# 🚨 Don't change the code below 👇\n",
    "row1 = [\"⬜️\",\"⬜️\",\"⬜️\"]\n",
    "row2 = [\"⬜️\",\"⬜️\",\"⬜️\"]\n",
    "row3 = [\"⬜️\",\"⬜️\",\"⬜️\"]\n",
    "map = [row1, row2, row3]\n",
    "print(f\"{row1}\\n{row2}\\n{row3}\")\n",
    "position = input(\"Where do you want to put the treasure? \")\n",
    "# 🚨 Don't change the code above 👆\n",
    "\n",
    "#Write your code below this row 👇\n",
    "\n",
    "numbers = [int(i) for i in str(position)]\n",
    "row = numbers[0]\n",
    "column = numbers[-1]\n",
    "\n",
    "map[column-1][row-1] = \"X\"\n",
    "\n",
    "#Write your code above this row 👆\n",
    "\n",
    "# 🚨 Don't change the code below 👇\n",
    "print(f\"{row1}\\n{row2}\\n{row3}\")"
   ]
  },
  {
   "cell_type": "code",
   "execution_count": null,
   "metadata": {},
   "outputs": [],
   "source": []
  },
  {
   "cell_type": "code",
   "execution_count": 11,
   "metadata": {},
   "outputs": [
    {
     "name": "stdout",
     "output_type": "stream",
     "text": [
      "Choose your bet. \"Rock\" \"Paper\" or \"Scissors\"rock\n",
      "\n",
      " Your Choice: rock\n",
      "\n",
      "    _______\n",
      "---'   ____)\n",
      "      (_____)\n",
      "      (_____)\n",
      "      (____)\n",
      "---.__(___)\n",
      "\n",
      "\n",
      "The computer chose Scissors \n",
      "    _______\n",
      "---'   ____)____\n",
      "          ______)\n",
      "       __________)\n",
      "      (____)\n",
      "---.__(___)\n",
      "\n",
      "You Win!!\n"
     ]
    }
   ],
   "source": [
    "import random\n",
    "\n",
    "rock = '''\n",
    "    _______\n",
    "---'   ____)\n",
    "      (_____)\n",
    "      (_____)\n",
    "      (____)\n",
    "---.__(___)\n",
    "'''\n",
    "\n",
    "paper = '''\n",
    "    _______\n",
    "---'   ____)____\n",
    "          ______)\n",
    "          _______)\n",
    "         _______)\n",
    "---.__________)\n",
    "'''\n",
    "\n",
    "scissors = '''\n",
    "    _______\n",
    "---'   ____)____\n",
    "          ______)\n",
    "       __________)\n",
    "      (____)\n",
    "---.__(___)\n",
    "'''\n",
    "\n",
    "user_bet = input('Choose your bet. \"Rock\" \"Paper\" or \"Scissors\"').lower()\n",
    "print(f'\\n Your Choice: {user_bet}')\n",
    "\n",
    "if user_bet == \"rock\":\n",
    "  print(rock)\n",
    "elif user_bet == \"paper\":\n",
    "  print(paper)\n",
    "elif user_bet == \"scissors\":\n",
    "  print(scissors)\n",
    "else:\n",
    "  print('Invalid Choice')\n",
    "\n",
    "Bets = [\"rock\", \"paper\", \"scissors\"]\n",
    "\n",
    "comp_bet = random.randint(0,len(Bets)-1)\n",
    "\n",
    "if comp_bet == 0:\n",
    "  comp_bet = \"rock\"\n",
    "  print(f'\\nThe computer chose Rock {rock}')\n",
    "elif comp_bet == 1:\n",
    "  comp_bet = \"paper\"\n",
    "  print(f'\\nThe computer chose Paper{paper}')\n",
    "else:\n",
    "  comp_bet = \"scissors\"\n",
    "  print(f'\\nThe computer chose Scissors {scissors}')\n",
    "\n",
    "if user_bet == \"rock\":\n",
    "  if comp_bet == \"scissors\":\n",
    "    print('You Win!!')\n",
    "  elif comp_bet == \"rock\":\n",
    "    print('It is a tie.')\n",
    "  else:\n",
    "    print('You Loose.')\n",
    "elif user_bet == \"paper\":\n",
    "  if comp_bet == \"rock\":\n",
    "    print('You Win!!')\n",
    "  elif comp_bet == \"paper\":\n",
    "    print('It is a tie.')\n",
    "  else:\n",
    "    print('You Loose.')\n",
    "else:\n",
    "  if comp_bet == \"paper\":\n",
    "    print('You Win!!')\n",
    "  elif comp_bet == \"scissors\":\n",
    "    print('It is a tie.')\n",
    "  else:\n",
    "    print('You Loose.')\n",
    "\n",
    "# Rock wins against scissors.\n",
    "# Scissors win against paper.\n",
    "# Paper wins against rock."
   ]
  },
  {
   "cell_type": "code",
   "execution_count": null,
   "metadata": {},
   "outputs": [],
   "source": []
  }
 ],
 "metadata": {
  "kernelspec": {
   "display_name": "Python 3",
   "language": "python",
   "name": "python3"
  },
  "language_info": {
   "codemirror_mode": {
    "name": "ipython",
    "version": 3
   },
   "file_extension": ".py",
   "mimetype": "text/x-python",
   "name": "python",
   "nbconvert_exporter": "python",
   "pygments_lexer": "ipython3",
   "version": "3.7.7"
  }
 },
 "nbformat": 4,
 "nbformat_minor": 4
}

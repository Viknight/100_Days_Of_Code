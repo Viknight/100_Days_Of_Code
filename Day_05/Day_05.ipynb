{
 "cells": [
  {
   "cell_type": "code",
   "execution_count": 3,
   "metadata": {},
   "outputs": [
    {
     "name": "stdout",
     "output_type": "stream",
     "text": [
      "Input a list of student heights 12 12\n",
      "12.0\n"
     ]
    }
   ],
   "source": [
    "#Average height\n",
    "# 🚨 Don't change the code below 👇\n",
    "student_heights = input(\"Input a list of student heights \").split()\n",
    "for n in range(0, len(student_heights)):\n",
    "  student_heights[n] = int(student_heights[n])\n",
    "# 🚨 Don't change the code above 👆\n",
    "\n",
    "\n",
    "#Write your code below this row 👇\n",
    "sum = 0\n",
    "iteration = 0\n",
    "for i in student_heights:\n",
    "  sum += i\n",
    "  iteration += 1\n",
    "\n",
    "print(sum/iteration)\n",
    "\n"
   ]
  },
  {
   "cell_type": "code",
   "execution_count": null,
   "metadata": {},
   "outputs": [],
   "source": []
  },
  {
   "cell_type": "code",
   "execution_count": null,
   "metadata": {},
   "outputs": [],
   "source": [
    "#high score\n",
    "# 🚨 Don't change the code below 👇\n",
    "student_scores = input(\"Input a list of student scores \").split()\n",
    "for n in range(0, len(student_scores)):\n",
    "  student_scores[n] = int(student_scores[n])\n",
    "print(student_scores)\n",
    "# 🚨 Don't change the code above 👆\n",
    "\n",
    "#Write your code below this row 👇\n",
    "\n",
    "max = 0\n",
    "\n",
    "for i in student_scores:\n",
    "  if i > max:\n",
    "    max = i\n",
    "\n",
    "print(f\"The highest score in the class is: {max}\")\n"
   ]
  },
  {
   "cell_type": "code",
   "execution_count": null,
   "metadata": {},
   "outputs": [],
   "source": []
  },
  {
   "cell_type": "code",
   "execution_count": 4,
   "metadata": {},
   "outputs": [
    {
     "name": "stdout",
     "output_type": "stream",
     "text": [
      "The sum of the entire series is 2551\n"
     ]
    }
   ],
   "source": [
    "#sum of even numbers\n",
    "#Write your code below this row 👇\n",
    "sum = 1\n",
    "for i in range(2,101,2):\n",
    "  sum += i\n",
    "print(f\"The sum of the entire series is {sum}\")"
   ]
  },
  {
   "cell_type": "code",
   "execution_count": null,
   "metadata": {},
   "outputs": [],
   "source": []
  },
  {
   "cell_type": "code",
   "execution_count": 5,
   "metadata": {},
   "outputs": [
    {
     "name": "stdout",
     "output_type": "stream",
     "text": [
      "1\n",
      "2\n",
      "Fizz\n",
      "4\n",
      "Buzz\n",
      "Fizz\n",
      "7\n",
      "8\n",
      "Fizz\n",
      "Buzz\n",
      "11\n",
      "Fizz\n",
      "13\n",
      "14\n",
      "FizzBuzz\n",
      "Fizz\n",
      "16\n",
      "17\n",
      "Fizz\n",
      "19\n",
      "Buzz\n",
      "Fizz\n",
      "22\n",
      "23\n",
      "Fizz\n",
      "Buzz\n",
      "26\n",
      "Fizz\n",
      "28\n",
      "29\n",
      "FizzBuzz\n",
      "Fizz\n",
      "31\n",
      "32\n",
      "Fizz\n",
      "34\n",
      "Buzz\n",
      "Fizz\n",
      "37\n",
      "38\n",
      "Fizz\n",
      "Buzz\n",
      "41\n",
      "Fizz\n",
      "43\n",
      "44\n",
      "FizzBuzz\n",
      "Fizz\n",
      "46\n",
      "47\n",
      "Fizz\n",
      "49\n",
      "Buzz\n",
      "Fizz\n",
      "52\n",
      "53\n",
      "Fizz\n",
      "Buzz\n",
      "56\n",
      "Fizz\n",
      "58\n",
      "59\n",
      "FizzBuzz\n",
      "Fizz\n",
      "61\n",
      "62\n",
      "Fizz\n",
      "64\n",
      "Buzz\n",
      "Fizz\n",
      "67\n",
      "68\n",
      "Fizz\n",
      "Buzz\n",
      "71\n",
      "Fizz\n",
      "73\n",
      "74\n",
      "FizzBuzz\n",
      "Fizz\n",
      "76\n",
      "77\n",
      "Fizz\n",
      "79\n",
      "Buzz\n",
      "Fizz\n",
      "82\n",
      "83\n",
      "Fizz\n",
      "Buzz\n",
      "86\n",
      "Fizz\n",
      "88\n",
      "89\n",
      "FizzBuzz\n",
      "Fizz\n",
      "91\n",
      "92\n",
      "Fizz\n",
      "94\n",
      "Buzz\n",
      "Fizz\n",
      "97\n",
      "98\n",
      "Fizz\n",
      "Buzz\n"
     ]
    }
   ],
   "source": [
    "#FizzBuzz\n",
    "#Write your code below this row 👇\n",
    "for i in range(1,101):\n",
    "  if i%3 == 0:\n",
    "    if i%5 == 0:\n",
    "      print('FizzBuzz')\n",
    "    print('Fizz')\n",
    "  elif i% 5 == 0:\n",
    "    print('Buzz')\n",
    "  else:\n",
    "    print(i)"
   ]
  },
  {
   "cell_type": "code",
   "execution_count": null,
   "metadata": {},
   "outputs": [],
   "source": []
  },
  {
   "cell_type": "code",
   "execution_count": 6,
   "metadata": {},
   "outputs": [
    {
     "name": "stdout",
     "output_type": "stream",
     "text": [
      "Welcome to the PyPassword Generator!\n",
      "How many letters would you like in your password?\n",
      "12\n",
      "How many symbols would you like?\n",
      "5\n",
      "How many numbers would you like?\n",
      "5\n",
      "Here is your password: 5)!&(2M2YF7UGpQt2WbJN$\n"
     ]
    }
   ],
   "source": [
    "#password_generator\n",
    "#Password Generator Project\n",
    "import random\n",
    "letters = ['a', 'b', 'c', 'd', 'e', 'f', 'g', 'h', 'i', 'j', 'k', 'l', 'm', 'n', 'o', 'p', 'q', 'r', 's', 't', 'u', 'v', 'w', 'x', 'y', 'z', 'A', 'B', 'C', 'D', 'E', 'F', 'G', 'H', 'I', 'J', 'K', 'L', 'M', 'N', 'O', 'P', 'Q', 'R', 'S', 'T', 'U', 'V', 'W', 'X', 'Y', 'Z']\n",
    "numbers = ['0', '1', '2', '3', '4', '5', '6', '7', '8', '9']\n",
    "symbols = ['!', '#', '$', '%', '&', '(', ')', '*', '+']\n",
    "\n",
    "print(\"Welcome to the PyPassword Generator!\")\n",
    "nr_letters= int(input(\"How many letters would you like in your password?\\n\")) \n",
    "nr_symbols = int(input(f\"How many symbols would you like?\\n\"))\n",
    "nr_numbers = int(input(f\"How many numbers would you like?\\n\"))\n",
    "\n",
    "password = ''\n",
    "#Eazy Level - Order not randomised:\n",
    "#e.g. 4 letter, 2 symbol, 2 number = JduE&!91\n",
    "for i in range(0,nr_letters):\n",
    "  random_letter = random.choice(letters)\n",
    "  password += random_letter\n",
    "\n",
    "for j in range(0,nr_symbols):\n",
    "  random_symbol = random.choice(symbols)\n",
    "  password += random_symbol\n",
    "\n",
    "for k in range(0,nr_numbers):\n",
    "  random_number = random.choice(numbers)\n",
    "  password += random_number\n",
    "  \n",
    "#easy way\n",
    "# print(f'Here is your password: {password}')\n",
    "\n",
    "#Hard Level - Order of characters randomised:\n",
    "#e.g. 4 letter, 2 symbol, 2 number = g^2jk8&P\n",
    "\n",
    "n = list(password)\n",
    "hard_password = ''\n",
    "# print(n)\n",
    "\n",
    "for i in range(0,len(n)):\n",
    "  x = len(n)-1\n",
    "  index = random.randint(0,x)\n",
    "  hard_password += n[index]\n",
    "  del n[index]\n",
    "\n",
    "#hard way\n",
    "print(f'Here is your password: {hard_password}')"
   ]
  },
  {
   "cell_type": "code",
   "execution_count": null,
   "metadata": {},
   "outputs": [],
   "source": []
  },
  {
   "cell_type": "code",
   "execution_count": null,
   "metadata": {},
   "outputs": [],
   "source": []
  }
 ],
 "metadata": {
  "kernelspec": {
   "display_name": "Python 3",
   "language": "python",
   "name": "python3"
  },
  "language_info": {
   "codemirror_mode": {
    "name": "ipython",
    "version": 3
   },
   "file_extension": ".py",
   "mimetype": "text/x-python",
   "name": "python",
   "nbconvert_exporter": "python",
   "pygments_lexer": "ipython3",
   "version": "3.7.7"
  }
 },
 "nbformat": 4,
 "nbformat_minor": 4
}

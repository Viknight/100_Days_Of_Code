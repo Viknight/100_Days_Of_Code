{
 "cells": [
  {
   "cell_type": "code",
   "execution_count": 1,
   "metadata": {},
   "outputs": [
    {
     "name": "stdout",
     "output_type": "stream",
     "text": [
      "Height of wall: 55\n",
      "Width of wall: 31\n",
      "To paint the entire wall 341 cans will be required\n"
     ]
    }
   ],
   "source": [
    "#paint area calculator\n",
    "\n",
    "#Write your code below this line 👇\n",
    "import math\n",
    "\n",
    "def paint_calc(height, width, cover):\n",
    "  area = height * width\n",
    "  no_of_cans = math.ceil(area / cover)\n",
    "  print(f\"To paint the entire wall {no_of_cans} cans will be required\")\n",
    "\n",
    "#Write your code above this line 👆\n",
    "# Define a function called paint_calc() so that the code below works.   \n",
    "\n",
    "# 🚨 Don't change the code below 👇\n",
    "test_h = int(input(\"Height of wall: \"))\n",
    "test_w = int(input(\"Width of wall: \"))\n",
    "coverage = 5\n",
    "paint_calc(height=test_h, width=test_w, cover=coverage)\n",
    "\n",
    "\n"
   ]
  },
  {
   "cell_type": "code",
   "execution_count": null,
   "metadata": {},
   "outputs": [],
   "source": []
  },
  {
   "cell_type": "code",
   "execution_count": null,
   "metadata": {},
   "outputs": [],
   "source": [
    "#functions with input\n",
    "# Review: \n",
    "# Create a function called greet(). \n",
    "# Write 3 print statements inside the function.\n",
    "# Call the greet() function and run your code.\n",
    "\n",
    "def greet():\n",
    "  print(\"Hello\")\n",
    "  print(\"world\")\n",
    "  print(\"Welcome\")\n",
    "\n",
    "def greet_with(name,location):\n",
    "  print(f\"Hello {name}\")\n",
    "  print(f\"How is the weather at {location}?\")\n",
    "\n",
    "greet_with(\"varun\",\"mumbai\")\n",
    "\n",
    "greet_with(location=\"mumbai\", name =\" varun\")"
   ]
  },
  {
   "cell_type": "code",
   "execution_count": null,
   "metadata": {},
   "outputs": [],
   "source": []
  },
  {
   "cell_type": "code",
   "execution_count": null,
   "metadata": {},
   "outputs": [],
   "source": []
  }
 ],
 "metadata": {
  "kernelspec": {
   "display_name": "Python 3",
   "language": "python",
   "name": "python3"
  },
  "language_info": {
   "codemirror_mode": {
    "name": "ipython",
    "version": 3
   },
   "file_extension": ".py",
   "mimetype": "text/x-python",
   "name": "python",
   "nbconvert_exporter": "python",
   "pygments_lexer": "ipython3",
   "version": "3.7.7"
  }
 },
 "nbformat": 4,
 "nbformat_minor": 4
}

{
 "cells": [
  {
   "cell_type": "code",
   "execution_count": 4,
   "metadata": {},
   "outputs": [
    {
     "name": "stdout",
     "output_type": "stream",
     "text": [
      "Welcome to Python Pizza Deliveries!\n",
      "What size pizza do you want? S, M, or L S\n",
      "Do you want pepperoni? Y or N Y\n",
      "Do you want extra cheese? Y or N Y\n",
      "Your final bill is: $18.\n"
     ]
    }
   ],
   "source": [
    "# 🚨 Don't change the code below 👇\n",
    "print(\"Welcome to Python Pizza Deliveries!\")\n",
    "size = input(\"What size pizza do you want? S, M, or L \")\n",
    "add_pepperoni = input(\"Do you want pepperoni? Y or N \")\n",
    "extra_cheese = input(\"Do you want extra cheese? Y or N \")\n",
    "# 🚨 Don't change the code above 👆\n",
    "\n",
    "#Write your code below this line 👇\n",
    "\n",
    "bill = 0\n",
    "\n",
    "if size == \"S\":\n",
    "  bill += 15\n",
    "elif size == \"M\":\n",
    "  bill += 20\n",
    "else:\n",
    "  bill += 25\n",
    "\n",
    "if add_pepperoni == \"Y\":\n",
    "  if size == \"S\":\n",
    "    bill += 2\n",
    "  else:\n",
    "    bill += 3\n",
    "    \n",
    "if extra_cheese == \"Y\":\n",
    "  bill += 1\n",
    "  \n",
    "print(f\"Your final bill is: ${bill}.\")"
   ]
  },
  {
   "cell_type": "code",
   "execution_count": 16,
   "metadata": {},
   "outputs": [
    {
     "name": "stdout",
     "output_type": "stream",
     "text": [
      "\n",
      " Welcome to Python Pizza!\n",
      "What size pizza do you want? S, M, or L l\n",
      "Do you want pepperoni? Y or N y\n",
      "Do you want extra cheese? Y or N y\n",
      "What is your name?aaradhya\n",
      "You are Banned. Get Lost\n"
     ]
    }
   ],
   "source": [
    "print('\\n Welcome to Python Pizza!')\n",
    "\n",
    "size = input(\"What size pizza do you want? S, M, or L \")\n",
    "\n",
    "Bill = 0\n",
    "\n",
    "if size == 's':\n",
    "\tBill += 15\n",
    "elif size == 'm':\n",
    "\tBill += 20\n",
    "elif size == \"l\":\n",
    "\tBill += 25\n",
    "\n",
    "add_pepperoni = input(\"Do you want pepperoni? Y or N \")\n",
    "\n",
    "if add_pepperoni == 'y':\n",
    "\tif size == 's':\n",
    "\t\tBill += 2\n",
    "\telse:\n",
    "\t\tBill += 3\n",
    "\n",
    "extra_cheese = input(\"Do you want extra cheese? Y or N \")\n",
    "\n",
    "if extra_cheese == 'Y':\n",
    "\tBill += 1\n",
    "    \n",
    "name = input('What is your name?')\n",
    "if name == 'aaradhya':\n",
    "    print('You are Banned. Get Lost')\n",
    "    \n",
    "else:\n",
    "    print(f\"Your total bill amount is ${Bill}.\")\n"
   ]
  },
  {
   "cell_type": "code",
   "execution_count": null,
   "metadata": {},
   "outputs": [],
   "source": []
  },
  {
   "cell_type": "code",
   "execution_count": 22,
   "metadata": {},
   "outputs": [
    {
     "name": "stdout",
     "output_type": "stream",
     "text": [
      "2\n"
     ]
    }
   ],
   "source": [
    "score = 0\n",
    "name1= \"viknihgt\"\n",
    "for i in name1:\n",
    "\tif i == \"t\" or i == \"r\" or i == \"u\" or i == \"e\" or i == \"l\" or i == \"o\" or i == \"v\" or i == \"e\":\n",
    "\t\tscore += 1\n",
    "print(score)"
   ]
  },
  {
   "cell_type": "code",
   "execution_count": null,
   "metadata": {},
   "outputs": [],
   "source": []
  },
  {
   "cell_type": "code",
   "execution_count": 24,
   "metadata": {},
   "outputs": [
    {
     "name": "stdout",
     "output_type": "stream",
     "text": [
      "What is your name? \n",
      "romeo\n",
      "What is their name? \n",
      "juliet\n"
     ]
    },
    {
     "data": {
      "text/plain": [
       "'romeojuliet'"
      ]
     },
     "execution_count": 24,
     "metadata": {},
     "output_type": "execute_result"
    }
   ],
   "source": [
    "name1 = input(\"What is your name? \\n\")\n",
    "name2 = input(\"What is their name? \\n\")\n",
    "\n",
    "name = name1.lower() +name2.lower()\n",
    "name\n"
   ]
  },
  {
   "cell_type": "code",
   "execution_count": null,
   "metadata": {},
   "outputs": [],
   "source": []
  },
  {
   "cell_type": "code",
   "execution_count": 10,
   "metadata": {},
   "outputs": [
    {
     "name": "stdout",
     "output_type": "stream",
     "text": [
      "Welcome to the rollercoaster!\n",
      "What is your height in cm? 150\n",
      "What is your age?10\n",
      "Child tickets are $5\n",
      "Do you want photos as well? (Y/N)y\n",
      "Total bill amount is $8.\n"
     ]
    }
   ],
   "source": [
    "print(\"Welcome to the rollercoaster!\")\n",
    "height = int(input(\"What is your height in cm? \"))\n",
    "\n",
    "Bill = 0\n",
    "\n",
    "if (height > 120):\n",
    "\n",
    "\tAge = int(input('What is your age?'))\n",
    "\tif Age < 12:\n",
    "\t\tBill+=5\n",
    "\t\tprint('Child tickets are $5')\n",
    "\n",
    "\telif Age <= 18:\n",
    "\t\tBill += 7\n",
    "\t\tprint('Teen Tickets are $7')\n",
    "        \n",
    "    elif Age >= 45 and Age <= 55:\n",
    "        print(\"Everything is on us. Enjoy your free ride!\")\n",
    "        \n",
    "\telse:\n",
    "\t\tBill += 12\n",
    "\t\tprint('Adult Tickets are $12')\n",
    "        \n",
    "\n",
    "\twant_photos = input(\"Do you want photos as well? (Y/N)\")\n",
    "\n",
    "\tif want_photos == 'y' or want_photos == \"Y\":\n",
    "\t\tBill  += 3\n",
    "\n",
    "\tprint(f\"Total bill amount is ${Bill}.\")\n",
    "\n",
    "else:\n",
    "  print('Sorry, you cannot proceed')"
   ]
  },
  {
   "cell_type": "code",
   "execution_count": null,
   "metadata": {},
   "outputs": [],
   "source": []
  },
  {
   "cell_type": "code",
   "execution_count": null,
   "metadata": {},
   "outputs": [
    {
     "name": "stdout",
     "output_type": "stream",
     "text": [
      "Welcome to the Love Calculator!\n"
     ]
    }
   ],
   "source": [
    "print(\"Welcome to the Love Calculator!\")\n",
    "name1 = input(\"What is your name? \\n\")\n",
    "name2 = input(\"What is their name? \\n\")\n",
    "\n",
    "name = name1.lower() +name2.lower()\n",
    "\n",
    "# score = 0\n",
    "# score_true_name1 = 0\n",
    "# score_true_name2 = 0\n",
    "# score_love_name1 = 0\n",
    "# score_love_name2 = 0\n",
    "\n",
    "# for i in name1_lower:\n",
    "# \tif i == \"t\" or i == \"r\" or i == \"u\" or i == \"e\": #or i == \"l\" or i == \"o\" or i == \"v\" or i == \"e\":\n",
    "# \t\tscore_true_name1 += 1\n",
    "\n",
    "# for j in name2_lower:\n",
    "# \tif j == \"t\" or j == \"r\" or j == \"u\" or j == \"e\": #or i == \"l\" or i == \"o\" or i == \"v\" or i == \"e\":\n",
    "# \t\tscore_true_name2 += 1\n",
    "\n",
    "\n",
    "# for k in name1_lower:\n",
    "# \tif k == \"l\" or k == \"o\" or k == \"v\" or k == \"e\":\n",
    "# \t\tscore_love_name1 += 1\n",
    "\n",
    "# for l in name2_lower:\n",
    "# \tif l == \"l\" or l == \"o\" or l == \"v\" or l == \"e\":\n",
    "# \t\tscore_love_name2 += 1\n",
    "\n",
    "\n",
    "t=name.count(\"t\")\n",
    "r=name.count(\"r\")\n",
    "u=name.count(\"u\")\n",
    "e=name.count(\"e\")\n",
    "\n",
    "l=name.count(\"l\")\n",
    "o=name.count(\"o\")\n",
    "v=name.count(\"v\")\n",
    "e=name.count(\"e\")\n",
    "\n",
    "true = t+r+u+e\n",
    "love = l+o+v+e\n",
    "score = str(true) + str(love)\n",
    "\n",
    "if (score < 10) or (score > 90):\n",
    "  print(f\"Your score is {score}, you go together like coke and mentos.\")\n",
    "elif (score >= 40) and (score <= 50):\n",
    "  print(f\"Your score is {score}, you are alright together.\")\n",
    "else:\n",
    "  print(f\"Your score is {score}.\")"
   ]
  },
  {
   "cell_type": "code",
   "execution_count": null,
   "metadata": {},
   "outputs": [],
   "source": []
  },
  {
   "cell_type": "code",
   "execution_count": null,
   "metadata": {},
   "outputs": [],
   "source": [
    "print('''\n",
    "*******************************************************************************\n",
    "          |                   |                  |                     |\n",
    " _________|________________.=\"\"_;=.______________|_____________________|_______\n",
    "|                   |  ,-\"_,=\"\"     `\"=.|                  |\n",
    "|___________________|__\"=._o`\"-._        `\"=.______________|___________________\n",
    "          |                `\"=._o`\"=._      _`\"=._                     |\n",
    " _________|_____________________:=._o \"=._.\"_.-=\"'\"=.__________________|_______\n",
    "|                   |    __.--\" , ; `\"=._o.\" ,-\"\"\"-._ \".   |\n",
    "|___________________|_._\"  ,. .` ` `` ,  `\"-._\"-._   \". '__|___________________\n",
    "          |           |o`\"=._` , \"` `; .\". ,  \"-._\"-._; ;              |\n",
    " _________|___________| ;`-.o`\"=._; .\" ` '`.\"\\` . \"-._ /_______________|_______\n",
    "|                   | |o;    `\"-.o`\"=._``  '` \" ,__.--o;   |\n",
    "|___________________|_| ;     (#) `-.o `\"=.`_.--\"_o.-; ;___|___________________\n",
    "____/______/______/___|o;._    \"      `\".o|o_.--\"    ;o;____/______/______/____\n",
    "/______/______/______/_\"=._o--._        ; | ;        ; ;/______/______/______/_\n",
    "____/______/______/______/__\"=._o--._   ;o|o;     _._;o;____/______/______/____\n",
    "/______/______/______/______/____\"=._o._; | ;_.--\"o.--\"_/______/______/______/_\n",
    "____/______/______/______/______/_____\"=.o|o_.--\"\"___/______/______/______/____\n",
    "/______/______/______/______/______/______/______/______/______/______/_____ /\n",
    "*******************************************************************************\n",
    "''')\n",
    "print(\"Welcome to Treasure Island.\")\n",
    "print(\"Your mission is to find the treasure.\") \n",
    "\n",
    "level_1 = input(' \\n\\n You have come to a cross road. Were do you want to go? Type \"left\" or \"right\"').lower()\n",
    "\n",
    "if level_1 == 'left':\n",
    "\n",
    "\tlevel_2 = input('You have arrived at a river? Do you want to swim or wait? Type \"swim\" or \"wait\"').lower()\n",
    "\tif level_2 == \"wait\":\n",
    "\n",
    "\t\tlevel_3 = input('Now you are at a place with 3 doors Red, Blue and Yellow. Choose one. Type \"red\" or \"blue\" or \"yellow\"').lower()\n",
    "\t\tif level_3 == \"yellow\":\n",
    "\t\t\tprint(\"Hooray!! You have won the Treasure!!.\")\n",
    "\t\telif level_3 == \"red\":\n",
    "\t\t\tprint(\"Fire! Fire! Fire! You had nowhere to go. GAME OVER.\")\n",
    "\t\telse:\n",
    "\t\t\tprint(\"You tried your best but the beast got the best of you. GAME OVER.\")\n",
    "\n",
    "\telse:\n",
    "\t\tprint(\"An alligator made you his meal. GAME OVER.\")\n",
    "\n",
    "else:\n",
    "\tprint(\"Unlucky 0.0 You fell into a ditch. GAME OVER.\")\n",
    "\n",
    "\n",
    "\n",
    "#https://www.draw.io/?lightbox=1&highlight=0000ff&edit=_blank&layers=1&nav=1&title=Treasure%20Island%20Conditional.drawio#Uhttps%3A%2F%2Fdrive.google.com%2Fuc%3Fid%3D1oDe4ehjWZipYRsVfeAx2HyB7LCQ8_Fvi%26export%3Ddownload"
   ]
  },
  {
   "cell_type": "code",
   "execution_count": null,
   "metadata": {},
   "outputs": [],
   "source": []
  },
  {
   "cell_type": "code",
   "execution_count": null,
   "metadata": {},
   "outputs": [],
   "source": []
  },
  {
   "cell_type": "code",
   "execution_count": null,
   "metadata": {},
   "outputs": [],
   "source": []
  },
  {
   "cell_type": "code",
   "execution_count": null,
   "metadata": {},
   "outputs": [],
   "source": []
  },
  {
   "cell_type": "code",
   "execution_count": null,
   "metadata": {},
   "outputs": [],
   "source": []
  }
 ],
 "metadata": {
  "kernelspec": {
   "display_name": "Python 3",
   "language": "python",
   "name": "python3"
  },
  "language_info": {
   "codemirror_mode": {
    "name": "ipython",
    "version": 3
   },
   "file_extension": ".py",
   "mimetype": "text/x-python",
   "name": "python",
   "nbconvert_exporter": "python",
   "pygments_lexer": "ipython3",
   "version": "3.7.7"
  }
 },
 "nbformat": 4,
 "nbformat_minor": 4
}
